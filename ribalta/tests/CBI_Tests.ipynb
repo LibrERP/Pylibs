{
 "cells": [
  {
   "cell_type": "code",
   "execution_count": 1,
   "metadata": {},
   "outputs": [],
   "source": [
    "import json\n",
    "from pathlib import Path\n",
    "from types import SimpleNamespace\n",
    "import sys\n",
    "import importlib.resources"
   ]
  },
  {
   "cell_type": "code",
   "execution_count": 2,
   "metadata": {},
   "outputs": [
    {
     "data": {
      "text/plain": [
       "['/home/marco/Documents/erp/axidoo/libs/ribalta/',\n",
       " '/home/marco/Documents/erp/axidoo/odoo/',\n",
       " '/home/marco/Documents/erp/axidoo/libs/ribalta/tests',\n",
       " '/usr/lib/python37.zip',\n",
       " '/usr/lib/python3.7',\n",
       " '/usr/lib/python3.7/lib-dynload',\n",
       " '',\n",
       " '/home/marco/.local/share/virtualenvs/axidoo-2AEsS5m1/lib/python3.7/site-packages',\n",
       " '/home/marco/.local/share/virtualenvs/axidoo-2AEsS5m1/lib/python3.7/site-packages/IPython/extensions',\n",
       " '/home/marco/.ipython']"
      ]
     },
     "execution_count": 2,
     "metadata": {},
     "output_type": "execute_result"
    }
   ],
   "source": [
    "sys.path = [\n",
    "    '/home/marco/Documents/erp/axidoo/libs/ribalta/',\n",
    "    '/home/marco/Documents/erp/axidoo/odoo/'\n",
    "] + sys.path\n",
    "sys.path"
   ]
  },
  {
   "cell_type": "code",
   "execution_count": 3,
   "metadata": {},
   "outputs": [],
   "source": [
    "from mako.template import Template\n",
    "import dateutil"
   ]
  },
  {
   "cell_type": "code",
   "execution_count": 4,
   "metadata": {},
   "outputs": [],
   "source": [
    "import ribalta"
   ]
  },
  {
   "cell_type": "code",
   "execution_count": 5,
   "metadata": {},
   "outputs": [
    {
     "data": {
      "text/plain": [
       "True"
      ]
     },
     "execution_count": 5,
     "metadata": {},
     "output_type": "execute_result"
    }
   ],
   "source": [
    "JSON_DOC = Path('/home/marco/Documents/erp/axidoo/libs/ribalta/tests/data/riba_cred_no_ab.json')\n",
    "JSON_DOC.exists()"
   ]
  },
  {
   "cell_type": "code",
   "execution_count": 6,
   "metadata": {},
   "outputs": [
    {
     "data": {
      "text/plain": [
       "False"
      ]
     },
     "execution_count": 6,
     "metadata": {},
     "output_type": "execute_result"
    }
   ],
   "source": [
    "CBI_DOC = Path('/home/marco/Documents/erp/axidoo/libs/ribalta/tests/data/riba_out.cbi')\n",
    "CBI_DOC.exists()"
   ]
  },
  {
   "cell_type": "code",
   "execution_count": null,
   "metadata": {},
   "outputs": [],
   "source": [
    "class BankFake:\n",
    "    def __init__(self, abi, cab, bank_name=''):\n",
    "        self.bank_name = bank_name\n",
    "        self.abi = abi\n",
    "        self.cab = cab\n",
    "    # end init\n",
    "# end BankFake\n",
    "\n",
    "class BankAccountFake:\n",
    "    def __init__(self, abi, cab, number):\n",
    "        self.acc_number = number\n",
    "        self.abi = abi\n",
    "        self.cab = cab\n",
    "    # end init\n",
    "# end BankAccountFake\n",
    "\n",
    "class InvoiceFake:\n",
    "    def __init__(self, number, date_invoice):\n",
    "        self.number = number\n",
    "        self.date_invoice = dateutil.parser.parse(date_invoice)\n",
    "    # end init\n",
    "# end InvoiceFake\n",
    "\n",
    "class MoveLineFake:\n",
    "    def __init__(self, date_maturity, amount_residual):\n",
    "        self.date_maturity = dateutil.parser.parse(date_maturity)\n",
    "        self.amount_residual = amount_residual\n",
    "    # end init\n",
    "# end InvoiceFake\n",
    "\n",
    "class PartnerFake:\n",
    "    def __init__(\n",
    "        self,\n",
    "        name, ref='',\n",
    "        vat='', fiscalcode='',\n",
    "        street='', city='', zip='', state_id=None\n",
    "    ):\n",
    "        self.name = name\n",
    "        self.ref = ref\n",
    "        self.vat = vat\n",
    "        self.fiscalcode = fiscalcode\n",
    "        self.street = street\n",
    "        self.city = city\n",
    "        self.zip = zip\n",
    "        if state_id:\n",
    "            self.state_id = SimpleNamespace(**state_id)\n",
    "        else:\n",
    "            self.state_id = None\n",
    "        # end if\n",
    "    # end init\n",
    "# end PartnerFake\n",
    "\n",
    "class CompanyFake:\n",
    "    def __init__(self, partner_id, sia_code):\n",
    "        self.partner_id = PartnerFake(**partner_id)\n",
    "        self.sia_code = sia_code\n",
    "    # end init\n",
    "# end CompanyFake\n",
    "\n",
    "\n",
    "class RiBaData:\n",
    "    def __init__(self, creditor_company, creditor_bank_account, currency_code, lines):\n",
    "        self.head = {\n",
    "            'creditor_company': CompanyFake(**creditor_company),\n",
    "            'creditor_bank_account': BankAccountFake(**creditor_bank_account),\n",
    "            'currency_code': currency_code,\n",
    "        }\n",
    "        self.lines = [\n",
    "            {\n",
    "                'debitor_partner': PartnerFake(**line['debitor_partner']),\n",
    "                'debitor_bank': BankFake(**line['debitor_bank']),\n",
    "                'invoice': InvoiceFake(**line['invoice']),\n",
    "                'duedate_move_line': MoveLineFake(**line['duedate_move_line']),\n",
    "            }\n",
    "            for line in lines\n",
    "        ]\n",
    "    # end __init__\n",
    "    \n",
    "    @classmethod\n",
    "    def build_from_json_doc(cls, jsondoc_path: Path):\n",
    "        \n",
    "        with jsondoc_path.open('rb') as json_doc_fp:\n",
    "            json_dict = json.load(json_doc_fp)\n",
    "        # end with\n",
    "        \n",
    "        new_instance = cls(**json_dict)\n",
    "        return new_instance\n",
    "    # end build_from_json_doc\n",
    "# end RiBaData"
   ]
  },
  {
   "cell_type": "code",
   "execution_count": null,
   "metadata": {},
   "outputs": [],
   "source": [
    "ribadata = RiBaData.build_from_json_doc(JSON_DOC)"
   ]
  },
  {
   "cell_type": "code",
   "execution_count": null,
   "metadata": {},
   "outputs": [],
   "source": [
    "ribadoc = ribalta.Document(**ribadata.head)\n",
    "for line in ribadata.lines:\n",
    "    ribadoc.add_line(ribalta.Line(**line))\n",
    "# end for"
   ]
  },
  {
   "cell_type": "code",
   "execution_count": null,
   "metadata": {},
   "outputs": [],
   "source": []
  },
  {
   "cell_type": "code",
   "execution_count": null,
   "metadata": {},
   "outputs": [],
   "source": [
    "cbi_document = ribadoc.render_cbi()"
   ]
  },
  {
   "cell_type": "code",
   "execution_count": null,
   "metadata": {},
   "outputs": [],
   "source": [
    "cbi_document"
   ]
  },
  {
   "cell_type": "code",
   "execution_count": null,
   "metadata": {},
   "outputs": [],
   "source": [
    "CBI_DOC.write_text(cbi_document)"
   ]
  },
  {
   "cell_type": "code",
   "execution_count": null,
   "metadata": {},
   "outputs": [],
   "source": []
  }
 ],
 "metadata": {
  "kernelspec": {
   "display_name": "Python 3",
   "language": "python",
   "name": "python3"
  },
  "language_info": {
   "codemirror_mode": {
    "name": "ipython",
    "version": 3
   },
   "file_extension": ".py",
   "mimetype": "text/x-python",
   "name": "python",
   "nbconvert_exporter": "python",
   "pygments_lexer": "ipython3",
   "version": "3.7.9"
  }
 },
 "nbformat": 4,
 "nbformat_minor": 4
}
