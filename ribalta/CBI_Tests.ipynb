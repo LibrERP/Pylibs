{
 "cells": [
  {
   "cell_type": "code",
   "execution_count": 1,
   "metadata": {},
   "outputs": [],
   "source": [
    "from tests.data_load import FakeData\n",
    "from tests.validators import CBIReferenceValidator\n",
    "from tests.data_load import load_data_as_text, load_data_as_bytes\n",
    "\n",
    "from ribalta.cbi import Document, Line"
   ]
  },
  {
   "cell_type": "code",
   "execution_count": 10,
   "metadata": {},
   "outputs": [],
   "source": [
    "# Build the validation object\n",
    "validator = CBIReferenceValidator.build_from_reference_model('riba_ok')"
   ]
  },
  {
   "cell_type": "code",
   "execution_count": 11,
   "metadata": {},
   "outputs": [],
   "source": [
    "# Read data from json\n",
    "test_data = FakeData.build_from_test_data('riba_ok')"
   ]
  },
  {
   "cell_type": "code",
   "execution_count": 12,
   "metadata": {},
   "outputs": [],
   "source": [
    "# Build the CBI document object: use the test data\n",
    "# to perform the same steps of the real building process\n",
    "cbi_doc = Document(**test_data.head)\n",
    "for line in test_data.lines:\n",
    "    cbi_doc.add_line(Line(**line))\n",
    "# end for\n",
    "\n",
    "# Render the cbi_doc as string\n",
    "cbi_doc = cbi_doc.render_cbi()"
   ]
  },
  {
   "cell_type": "code",
   "execution_count": 13,
   "metadata": {},
   "outputs": [
    {
     "name": "stdout",
     "output_type": "stream",
     "text": [
      "---- 140000001            281220300000000000003660-08982626802222444466660501812101            F80074                      E----\n",
      "---- 140000001            281220300000000000003660-08982626802222444466660501812101            F80074                      E----\n",
      "---- 200000001My Company              via Altinate, 108       35121                                                         ----\n",
      "---- 200000001My Company              via Altinate, 108       35121                                                         ----\n",
      "---- 300000001Kissa Komics S.R.L.                                         04483400281                                       ----\n",
      "---- 300000001Kissa Komics S.R.L.                                         04483400281                                       ----\n",
      "---- 400000001Via Morgagni 30A              35121Padova PD                Banca Etica                                       ----\n",
      "---- 400000001Via Morgagni 30A              35121Padova PD                Banca Etica                                       ----\n",
      "---- 500000001PER LA FATTURA N. FATT/2020/0069 DEL 29/10/2020 IMP 36.6                                  04218940155         ----\n",
      "---- 500000001PER LA FATTURA N. FATT/2020/0069 DEL 29/10/2020 IMP 36.6                                  04218940155         ----\n",
      "---- 5100000010000000001My Company                                                                                          ----\n",
      "---- 5100000010000000001My Company                                                                                          ----\n",
      "---- 700000001                                                                                                              ----\n",
      "---- 700000001                                                                                                              ----\n",
      "---- 140000002            281120300000000000004270-08982626802222444466660501812101            F80074                      E----\n",
      "---- 140000002            281120300000000000004270-08982626802222444466660501812101            F80074                      E----\n",
      "---- 200000002My Company              via Altinate, 108       35121                                                         ----\n",
      "---- 200000002My Company              via Altinate, 108       35121                                                         ----\n",
      "---- 300000002Kissa Komics S.R.L.                                         04483400281                                       ----\n",
      "---- 300000002Kissa Komics S.R.L.                                         04483400281                                       ----\n",
      "---- 400000002Via Morgagni 30A              35121Padova PD                Banca Etica                                       ----\n",
      "---- 400000002Via Morgagni 30A              35121Padova PD                Banca Etica                                       ----\n",
      "---- 500000002PER LA FATTURA N. FATT/2020/0069 DEL 29/10/2020 IMP 42.7                                  04218940155         ----\n",
      "---- 500000002PER LA FATTURA N. FATT/2020/0069 DEL 29/10/2020 IMP 42.7                                  04218940155         ----\n",
      "---- 5100000020000000002My Company                                                                                          ----\n",
      "---- 5100000020000000002My Company                                                                                          ----\n",
      "---- 700000002                                                                                                              ----\n",
      "---- 700000002                                                                                                              ----\n",
      "---- 140000003            131120300000000000004270-08982626802222444466660501812101            F80074                      E----\n",
      "---- 140000003            131120300000000000004270-08982626802222444466660501812101            F80074                      E----\n",
      "---- 200000003My Company              via Altinate, 108       35121                                                         ----\n",
      "---- 200000003My Company              via Altinate, 108       35121                                                         ----\n",
      "---- 300000003Kissa Komics S.R.L.                                         04483400281                                       ----\n",
      "---- 300000003Kissa Komics S.R.L.                                         04483400281                                       ----\n",
      "---- 400000003Via Morgagni 30A              35121Padova PD                Banca Etica                                       ----\n",
      "---- 400000003Via Morgagni 30A              35121Padova PD                Banca Etica                                       ----\n",
      "---- 500000003PER LA FATTURA N. FATT/2020/0069 DEL 29/10/2020 IMP 42.7                                  04218940155         ----\n",
      "---- 500000003PER LA FATTURA N. FATT/2020/0069 DEL 29/10/2020 IMP 42.7                                  04218940155         ----\n",
      "---- 5100000030000000003My Company                                                                                          ----\n",
      "---- 5100000030000000003My Company                                                                                          ----\n",
      "---- 700000003                                                                                                              ----\n",
      "---- 700000003                                                                                                              ----\n"
     ]
    }
   ],
   "source": [
    "# Perform the validation against the reference model\n",
    "validator.validate_data(cbi_doc)"
   ]
  },
  {
   "cell_type": "code",
   "execution_count": null,
   "metadata": {},
   "outputs": [],
   "source": []
  }
 ],
 "metadata": {
  "kernelspec": {
   "display_name": "Python 3",
   "language": "python",
   "name": "python3"
  },
  "language_info": {
   "codemirror_mode": {
    "name": "ipython",
    "version": 3
   },
   "file_extension": ".py",
   "mimetype": "text/x-python",
   "name": "python",
   "nbconvert_exporter": "python",
   "pygments_lexer": "ipython3",
   "version": "3.7.9"
  }
 },
 "nbformat": 4,
 "nbformat_minor": 4
}
