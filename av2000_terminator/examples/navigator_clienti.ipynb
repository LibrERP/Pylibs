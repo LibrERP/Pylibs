{
 "cells": [
  {
   "cell_type": "code",
   "execution_count": 1,
   "metadata": {},
   "outputs": [
    {
     "data": {
      "text/plain": [
       "['../../',\n",
       " '/home/marco/Documents/erp/quargentan/libs/av2000_terminator/examples',\n",
       " '/usr/lib/python37.zip',\n",
       " '/usr/lib/python3.7',\n",
       " '/usr/lib/python3.7/lib-dynload',\n",
       " '',\n",
       " '/home/marco/.local/share/virtualenvs/quargentan-N3Mm-zx3/lib/python3.7/site-packages',\n",
       " '/home/marco/.local/share/virtualenvs/quargentan-N3Mm-zx3/lib/python3.7/site-packages/IPython/extensions',\n",
       " '/home/marco/.ipython']"
      ]
     },
     "execution_count": 1,
     "metadata": {},
     "output_type": "execute_result"
    }
   ],
   "source": [
    "import sys\n",
    "sys.path = (['../../'] + sys.path)\n",
    "sys.path"
   ]
  },
  {
   "cell_type": "code",
   "execution_count": 2,
   "metadata": {},
   "outputs": [],
   "source": [
    "import datetime\n",
    "\n",
    "from av2000_terminator.misc import keys\n",
    "from av2000_terminator.driver import AV2000Terminal\n",
    "from av2000_terminator.navigation import Navigator\n",
    "from av2000_terminator.misc.connection_params import ConnectionParams"
   ]
  },
  {
   "cell_type": "code",
   "execution_count": null,
   "metadata": {},
   "outputs": [],
   "source": []
  },
  {
   "cell_type": "code",
   "execution_count": 5,
   "metadata": {},
   "outputs": [],
   "source": [
    "cp = ConnectionParams(\n",
    "    host='10.3.1.1',\n",
    "    port=22,\n",
    "    username='didotech',\n",
    "    password='didotech',\n",
    "    company_id='99',\n",
    "    read_delay_sec=0.5\n",
    ")"
   ]
  },
  {
   "cell_type": "code",
   "execution_count": null,
   "metadata": {},
   "outputs": [],
   "source": []
  },
  {
   "cell_type": "code",
   "execution_count": 6,
   "metadata": {},
   "outputs": [
    {
     "name": "stdout",
     "output_type": "stream",
     "text": [
      "Initializing SSH clienti\n",
      "Connectiong to host 10.3.1.1\n",
      "Initializing terminal emulator\n",
      "Starting AV2000 interface\n",
      "Connection ready\n"
     ]
    }
   ],
   "source": [
    "av2000 = AV2000Terminal(cp)\n",
    "navigator = Navigator(av2000)"
   ]
  },
  {
   "cell_type": "code",
   "execution_count": 7,
   "metadata": {},
   "outputs": [],
   "source": [
    "navigator.back_to_main_menu()\n",
    "av2000.print_lines()"
   ]
  },
  {
   "cell_type": "code",
   "execution_count": 12,
   "metadata": {},
   "outputs": [
    {
     "name": "stdout",
     "output_type": "stream",
     "text": [
      "04/02/2022              Archivi di base area contabile                                              \n",
      "99 ****** PROVA *****                                                                               \n",
      "qqqqqqqqqqqqqqqqqqqqqqqqqqqqqqqqqqqqqqqqqqqqqqqqqqqqqqqqqqqqqqqqqqqqqqqqqqqqqqqq                    \n",
      "01 Parametri area contabile             17 Stampe parametri area contabile                          \n",
      "02 Tabelle area contabile               18 Stampe tabelle area contabile                            \n",
      "03 Progressivi base contabilita'                                                                    \n",
      "04 Piano dei conti                      20 Stampa Piano Conti                                       \n",
      "                                                                                                    \n",
      "06 Anagrafica clienti                   22 Stampa anagrafica clienti                                \n",
      "07 Flags      clienti                   23 Stampa circolari/etichette clienti                       \n",
      "                                        24 Stampa annotazioni clienti                               \n",
      "09 Anagrafica fornitori                 25 Stampa anagrafica fornitori                              \n",
      "                                        26 Stampa circolari/etichette fornitori                     \n",
      "11 Prog.IVA Cli,Fornit,Confer.          27 Stampa annotazioni fornitori                             \n",
      "                                        28 Stampa annotazioni ISO fornitori                         \n",
      "13 Gestione dic. d'intento clienti                                                                  \n",
      "                                                                                                    \n",
      "                                                                                                    \n",
      "                                        32 Utilita' base contabile                                  \n",
      "                                                                                                    \n",
      "                                                                                                    \n",
      "                                                                                                    \n",
      "                                                                                                    \n",
      "                                                                                                    \n",
      "                                                                                                    \n",
      "                                                                                                    \n",
      "                                                                                                    \n",
      "                                                                                                    \n",
      "                                                                                                    \n",
      "                                                                                                    \n",
      "                                                                                                    \n",
      "                                                                                                    \n",
      "Scelta                                                                                              \n",
      "qqqqqqqqqqqqqqqqqqqqqqqqqqqqqqqqqqqqqqqqqqqqqqqqqqqqqqqqqqqqqqqqqqqqqqqqqqqqqqqq                    \n",
      "Invio  Esc  Fine   F8   Utenti abilitati                                                            \n",
      "                                                                                                    \n",
      "                                                                                                    \n",
      "                                                                                                    \n",
      "                                                                                                    \n",
      "                                                                                                    \n"
     ]
    }
   ],
   "source": [
    "navigator.menu_select(3)\n",
    "av2000.print_lines()"
   ]
  },
  {
   "cell_type": "code",
   "execution_count": 15,
   "metadata": {},
   "outputs": [
    {
     "name": "stdout",
     "output_type": "stream",
     "text": [
      "04/02/2022                                             Anagrafica fornitori                                                   q4mfor\n",
      "99 ****** PROVA *****                                                                                                               \n",
      "qqqqqqqqqqqqqqqqqqqqqqqqqqqqqqqqqqqqqqqqqqqqqqqqqqqqqqqqqqqqqqqqqqqqqqqqqqqqqqqqqqqqqqqqqqqqqqqqqqqqqqqqqqqqqqqqqqqqqqqqqqqqqqqqqqqq\n",
      "Codice                                                                                                                              \n",
      "                                                                                                                                    \n",
      "                                                                                                                                    \n",
      "                                                                                                                                    \n",
      "                                                                                                                                    \n",
      "                                                                                                                                    \n",
      "                                                                                                                                    \n",
      "                                                                                                                                    \n",
      "                                                                                                                                    \n",
      "                                                                                                                                    \n",
      "                                                                                                                                    \n",
      "                                                                                                                                    \n",
      "                                                                                                                                    \n",
      "                                                                                                                                    \n",
      "                                                                                                                                    \n",
      "                                                                                                                                    \n",
      "                                                                                                                                    \n",
      "                                                                                                                                    \n",
      "                                                                                                                                    \n",
      "                                                                                                                                    \n",
      "                                                                                                                                    \n",
      "                                                                                                                                    \n",
      "                                                                                                                                    \n",
      "                                                                                                                                    \n",
      "                                                                                                                                    \n",
      "                                                                                                                                    \n",
      "                                                                                                                                    \n",
      "                                                                                                                                    \n",
      "                                                                                                                                    \n",
      "                                                                                                                                    \n",
      "                                                                                                                                    \n",
      "                                                                                                                                    \n",
      "                                                                                                                                    \n",
      "                                                                                                                                    \n",
      "qqqqqqqqqqqqqqqqqqqqqqqqqqqqqqqqqqqqqqqqqqqqqqqqqqqqqqqqqqqqqqqqqqqqqqqqqqqqqqqqqqqqqqqqqqqqqqqqqqqqqqqqqqqqqqqqqqqqqqqqqqqqqqqqqqqq\n",
      "Invio  Esc   F8   Codici in sequenza  sF1                                                                                           \n",
      "                                                                                                                                    \n"
     ]
    }
   ],
   "source": [
    "navigator.menu_select(9)\n",
    "av2000.print_lines()"
   ]
  },
  {
   "cell_type": "code",
   "execution_count": null,
   "metadata": {},
   "outputs": [],
   "source": []
  },
  {
   "cell_type": "code",
   "execution_count": 13,
   "metadata": {},
   "outputs": [
    {
     "name": "stdout",
     "output_type": "stream",
     "text": [
      "04/02/2022              Archivi di base area contabile                                              \n",
      "99 ****** PROVA *****                                                                               \n",
      "qqqqqqqqqqqqqqqqqqqqqqqqqqqqqqqqqqqqqqqqqqqqqqqqqqqqqqqqqqqqqqqqqqqqqqqqqqqqqqqq                    \n",
      "01 Parametri area contabile             17 Stampe parametri area contabile                          \n",
      "02 Tabelle area contabile               18 Stampe tabelle area contabile                            \n",
      "03 Progressivi base contabilita'                                                                    \n",
      "04 Piano dei conti                      20 Stampa Piano Conti                                       \n",
      "                                                                                                    \n",
      "06 Anagrafica clienti                   22 Stampa anagrafica clienti                                \n",
      "07 Flags      clienti                   23 Stampa circolari/etichette clienti                       \n",
      "                                        24 Stampa annotazioni clienti                               \n",
      "09 Anagrafica fornitori                 25 Stampa anagrafica fornitori                              \n",
      "                                        26 Stampa circolari/etichette fornitori                     \n",
      "11 Prog.IVA Cli,Fornit,Confer.          27 Stampa annotazioni fornitori                             \n",
      "                                        28 Stampa annotazioni ISO fornitori                         \n",
      "13 Gestione dic. d'intento clienti                                                                  \n",
      "                                                                                                    \n",
      "                                                                                                    \n",
      "                                        32 Utilita' base contabile                                  \n",
      "                                                                                                    \n",
      "                                                                                                    \n",
      "                                                                                                    \n",
      "                                                                                                    \n",
      "                                                                                                    \n",
      "                                                                                                    \n",
      "                                                                                                    \n",
      "                                                                                                    \n",
      "                                                                                                    \n",
      "                                                                                                    \n",
      "                                                                                                    \n",
      "                                                                                                    \n",
      "                                                                                                    \n",
      "Scelta                                                                                              \n",
      "qqqqqqqqqqqqqqqqqqqqqqqqqqqqqqqqqqqqqqqqqqqqqqqqqqqqqqqqqqqqqqqqqqqqqqqqqqqqqqqq                    \n",
      "Invio  Esc  Fine   F8   Utenti abilitati                                                            \n",
      "                                                                                                    \n",
      "                                                                                                    \n",
      "                                                                                                    \n",
      "                                                                                                    \n",
      "                                                                                                    \n"
     ]
    }
   ],
   "source": [
    "av2000.print_lines()"
   ]
  },
  {
   "cell_type": "code",
   "execution_count": null,
   "metadata": {},
   "outputs": [],
   "source": []
  },
  {
   "cell_type": "code",
   "execution_count": null,
   "metadata": {},
   "outputs": [],
   "source": [
    "prodotti = list()\n",
    "last_page_processed = False\n",
    "\n",
    "navigator.back_to_main_menu()\n",
    "\n",
    "navigator.menu_select(8)\n",
    "navigator.menu_select(20)\n",
    "navigator.menu_select(4)\n",
    "navigator.menu_select(4)\n",
    "\n",
    "while not last_page_processed:\n",
    "    \n",
    "    page_data = navigator.current_page.extract_data()\n",
    "    prodotti += page_data\n",
    "    \n",
    "    print(f'[{datetime.datetime.now()}] Retrieved {len(page_data)} lines')\n",
    "    \n",
    "    # Check if this was the last page\n",
    "    last_page_processed = navigator.current_page.is_last_page()\n",
    "    \n",
    "    # If last page has not been reached load the next page\n",
    "    if not last_page_processed:\n",
    "        navigator.current_page.scroll_next()\n",
    "    # end if\n",
    "    \n",
    "# end if\n",
    "\n",
    "print('END REACHED!!!!')\n",
    "\n",
    "navigator.back_to_main_menu()\n",
    "\n",
    "print(f'Total lines retrieved: {len(prodotti)}')"
   ]
  },
  {
   "cell_type": "code",
   "execution_count": null,
   "metadata": {},
   "outputs": [],
   "source": []
  },
  {
   "cell_type": "code",
   "execution_count": null,
   "metadata": {},
   "outputs": [],
   "source": [
    "[\n",
    "    x.replace(\n",
    "        'Wei├ƒwein', 'Weißwein'\n",
    "    ).replace(\n",
    "        'Wei▀wein', 'Weißwein'\n",
    "    ).replace(\n",
    "        'wei▀', 'weiß'\n",
    "    ).replace(\n",
    "        'rosΘ', 'rosé'\n",
    "    ).replace(\n",
    "        'Ros├⌐wein', 'Roséwein'\n",
    "    ).replace(\n",
    "        'RosΘwein', 'Roséwein'\n",
    "    )\n",
    "    for x in [prd['articolo'] for prd in prodotti]\n",
    "]"
   ]
  },
  {
   "cell_type": "code",
   "execution_count": null,
   "metadata": {},
   "outputs": [],
   "source": []
  }
 ],
 "metadata": {
  "kernelspec": {
   "display_name": "Python 3",
   "language": "python",
   "name": "python3"
  },
  "language_info": {
   "codemirror_mode": {
    "name": "ipython",
    "version": 3
   },
   "file_extension": ".py",
   "mimetype": "text/x-python",
   "name": "python",
   "nbconvert_exporter": "python",
   "pygments_lexer": "ipython3",
   "version": "3.7.12"
  }
 },
 "nbformat": 4,
 "nbformat_minor": 4
}
