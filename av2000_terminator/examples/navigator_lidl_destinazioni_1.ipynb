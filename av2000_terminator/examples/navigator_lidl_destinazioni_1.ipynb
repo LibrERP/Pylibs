{
 "cells": [
  {
   "cell_type": "code",
   "execution_count": null,
   "metadata": {},
   "outputs": [],
   "source": [
    "import sys\n",
    "sys.path = (['../../'] + sys.path)\n",
    "sys.path"
   ]
  },
  {
   "cell_type": "code",
   "execution_count": null,
   "metadata": {},
   "outputs": [],
   "source": [
    "import datetime\n",
    "\n",
    "from av2000_terminator.misc import keys\n",
    "from av2000_terminator.driver import AV2000Terminal\n",
    "from av2000_terminator.navigation import Navigator\n",
    "from av2000_terminator.misc.connection_params import ConnectionParams"
   ]
  },
  {
   "cell_type": "code",
   "execution_count": null,
   "metadata": {},
   "outputs": [],
   "source": []
  },
  {
   "cell_type": "code",
   "execution_count": null,
   "metadata": {},
   "outputs": [],
   "source": [
    "cp = ConnectionParams(\n",
    "    host='10.1.1.1',\n",
    "    port=222,\n",
    "    username='dido',\n",
    "    password='dido',\n",
    "    company_id='99',\n",
    "    read_delay_sec=0.5,\n",
    "    #encoding='ascii',\n",
    ")"
   ]
  },
  {
   "cell_type": "code",
   "execution_count": null,
   "metadata": {},
   "outputs": [],
   "source": []
  },
  {
   "cell_type": "code",
   "execution_count": null,
   "metadata": {},
   "outputs": [],
   "source": [
    "av2000 = AV2000Terminal(cp)\n",
    "navigator = Navigator(av2000)"
   ]
  },
  {
   "cell_type": "code",
   "execution_count": null,
   "metadata": {},
   "outputs": [],
   "source": []
  },
  {
   "cell_type": "code",
   "execution_count": null,
   "metadata": {},
   "outputs": [],
   "source": []
  },
  {
   "cell_type": "code",
   "execution_count": null,
   "metadata": {},
   "outputs": [],
   "source": [
    "destinazioni = list()\n",
    "last_page_processed = False\n",
    "\n",
    "navigator.back_to_main_menu()\n",
    "\n",
    "navigator.menu_select(8)\n",
    "navigator.menu_select(20)\n",
    "navigator.menu_select(4)\n",
    "navigator.menu_select(3)\n",
    "\n",
    "while not last_page_processed:\n",
    "    \n",
    "    page_data = navigator.current_page.extract_data()\n",
    "    destinazioni += page_data\n",
    "    \n",
    "    print(f'[{datetime.datetime.now()}] Retrieved {len(page_data)} lines')\n",
    "    \n",
    "    # Check if this was the last page\n",
    "    last_page_processed = navigator.current_page.is_last_page()\n",
    "    \n",
    "    # If last page has not been reached load the next page\n",
    "    if not last_page_processed:\n",
    "        navigator.current_page.scroll_next()\n",
    "    # end if\n",
    "    \n",
    "# end if\n",
    "\n",
    "print('END REACHED!!!!')\n",
    "\n",
    "navigator.back_to_main_menu()\n",
    "\n",
    "print(f'Total lines retrieved: {len(destinazioni)}')"
   ]
  },
  {
   "cell_type": "code",
   "execution_count": null,
   "metadata": {},
   "outputs": [],
   "source": []
  },
  {
   "cell_type": "code",
   "execution_count": null,
   "metadata": {},
   "outputs": [],
   "source": [
    "destinazioni"
   ]
  },
  {
   "cell_type": "code",
   "execution_count": null,
   "metadata": {},
   "outputs": [],
   "source": []
  },
  {
   "cell_type": "code",
   "execution_count": null,
   "metadata": {},
   "outputs": [],
   "source": [
    "destinazioni_name_wrong = destinazioni"
   ]
  },
  {
   "cell_type": "code",
   "execution_count": null,
   "metadata": {},
   "outputs": [],
   "source": [
    "destinazioni_name_ok"
   ]
  },
  {
   "cell_type": "code",
   "execution_count": null,
   "metadata": {},
   "outputs": [],
   "source": [
    "for d_n_ok, d_n_wr in zip(destinazioni_name_ok, destinazioni_name_wrong):\n",
    "    if d_n_ok['lager'] != d_n_wr['lager']:\n",
    "        print(d_n_ok['lager'], d_n_wr['lager'])\n",
    "    # end if\n",
    "# end for"
   ]
  },
  {
   "cell_type": "code",
   "execution_count": null,
   "metadata": {},
   "outputs": [],
   "source": []
  }
 ],
 "metadata": {
  "kernelspec": {
   "display_name": "Python 3",
   "language": "python",
   "name": "python3"
  },
  "language_info": {
   "codemirror_mode": {
    "name": "ipython",
    "version": 3
   },
   "file_extension": ".py",
   "mimetype": "text/x-python",
   "name": "python",
   "nbconvert_exporter": "python",
   "pygments_lexer": "ipython3",
   "version": "3.7.12"
  }
 },
 "nbformat": 4,
 "nbformat_minor": 4
}
