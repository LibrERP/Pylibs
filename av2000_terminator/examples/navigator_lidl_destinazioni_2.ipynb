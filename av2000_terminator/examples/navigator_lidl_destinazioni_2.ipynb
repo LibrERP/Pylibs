{
 "cells": [
  {
   "cell_type": "code",
   "execution_count": 1,
   "metadata": {},
   "outputs": [],
   "source": [
    "from pathlib import Path\n",
    "import datetime\n",
    "import sys"
   ]
  },
  {
   "cell_type": "code",
   "execution_count": 2,
   "metadata": {},
   "outputs": [],
   "source": [
    "sys.path.insert(0, Path('../../').resolve().as_posix())"
   ]
  },
  {
   "cell_type": "code",
   "execution_count": 3,
   "metadata": {},
   "outputs": [],
   "source": [
    "from av2000_terminator.misc import keys\n",
    "from av2000_terminator.driver import AV2000Terminal\n",
    "from av2000_terminator.navigation import Navigator\n",
    "from av2000_terminator.misc.connection_params import ConnectionParams"
   ]
  },
  {
   "cell_type": "code",
   "execution_count": null,
   "metadata": {},
   "outputs": [],
   "source": []
  },
  {
   "cell_type": "code",
   "execution_count": 4,
   "metadata": {},
   "outputs": [],
   "source": [
    "cp = ConnectionParams(\n",
    "    host='10.3.1.1',\n",
    "    port=22,\n",
    "    username='didotech',\n",
    "    password='didotech',\n",
    "    company_id='99',\n",
    "    read_delay_sec=0.5,\n",
    ")"
   ]
  },
  {
   "cell_type": "code",
   "execution_count": null,
   "metadata": {},
   "outputs": [],
   "source": []
  },
  {
   "cell_type": "code",
   "execution_count": 5,
   "metadata": {},
   "outputs": [
    {
     "name": "stdout",
     "output_type": "stream",
     "text": [
      "Initializing SSH clienti\n",
      "Connectiong to host 10.3.1.1\n",
      "Initializing terminal emulator\n",
      "Starting AV2000 interface\n",
      "Connection ready\n"
     ]
    }
   ],
   "source": [
    "av2000 = AV2000Terminal(cp)\n",
    "navigator = Navigator(av2000)"
   ]
  },
  {
   "cell_type": "code",
   "execution_count": 6,
   "metadata": {},
   "outputs": [],
   "source": [
    "navigator.back_to_main_menu()"
   ]
  },
  {
   "cell_type": "code",
   "execution_count": null,
   "metadata": {},
   "outputs": [],
   "source": []
  },
  {
   "cell_type": "code",
   "execution_count": 7,
   "metadata": {},
   "outputs": [
    {
     "name": "stdout",
     "output_type": "stream",
     "text": [
      "AV2000\n"
     ]
    },
    {
     "data": {
      "text/plain": [
       "{1: 'Tabelle multiaziendali',\n",
       " 3: 'Archivi di base area contabile',\n",
       " 4: 'Gestione area contabile',\n",
       " 5: 'Gestione cespiti',\n",
       " 7: 'Archivi di base area magazzino',\n",
       " 8: 'Gest.area magazzino/vendite/acquisti',\n",
       " 11: \"Export analisi redditivita'\",\n",
       " 18: 'Gestione area vendemmia',\n",
       " 19: 'Anomalie varie area vendemmia',\n",
       " 20: 'Import/Export dati vendemmia',\n",
       " 32: \"Utilita'\"}"
      ]
     },
     "execution_count": 7,
     "metadata": {},
     "output_type": "execute_result"
    }
   ],
   "source": [
    "print(navigator.current_page.name)\n",
    "navigator.menu"
   ]
  },
  {
   "cell_type": "code",
   "execution_count": 8,
   "metadata": {},
   "outputs": [],
   "source": [
    "navigator.menu_select(3)"
   ]
  },
  {
   "cell_type": "code",
   "execution_count": null,
   "metadata": {},
   "outputs": [],
   "source": []
  },
  {
   "cell_type": "code",
   "execution_count": 9,
   "metadata": {},
   "outputs": [
    {
     "name": "stdout",
     "output_type": "stream",
     "text": [
      "Archivi di base area contabile\n"
     ]
    },
    {
     "data": {
      "text/plain": [
       "{1: 'Parametri area contabile',\n",
       " 2: 'Tabelle area contabile',\n",
       " 3: \"Progressivi base contabilita'\",\n",
       " 4: 'Piano dei conti',\n",
       " 6: 'Anagrafica clienti',\n",
       " 7: 'Flags      clienti',\n",
       " 9: 'Anagrafica fornitori',\n",
       " 11: 'Prog.IVA Cli,Fornit,Confer.',\n",
       " 13: \"Gestione dic. d'intento clienti\",\n",
       " 17: 'Stampe parametri area contabile',\n",
       " 18: 'Stampe tabelle area contabile',\n",
       " 20: 'Stampa Piano Conti',\n",
       " 22: 'Stampa anagrafica clienti',\n",
       " 23: 'Stampa circolari/etichette clienti',\n",
       " 24: 'Stampa annotazioni clienti',\n",
       " 25: 'Stampa anagrafica fornitori',\n",
       " 26: 'Stampa circolari/etichette fornitori',\n",
       " 27: 'Stampa annotazioni fornitori',\n",
       " 28: 'Stampa annotazioni ISO fornitori',\n",
       " 32: \"Utilita' base contabile\"}"
      ]
     },
     "execution_count": 9,
     "metadata": {},
     "output_type": "execute_result"
    }
   ],
   "source": [
    "print(navigator.current_page.name)\n",
    "navigator.menu"
   ]
  },
  {
   "cell_type": "code",
   "execution_count": 10,
   "metadata": {},
   "outputs": [],
   "source": [
    "navigator.current_page.menu_select(6)"
   ]
  },
  {
   "cell_type": "code",
   "execution_count": null,
   "metadata": {},
   "outputs": [],
   "source": []
  },
  {
   "cell_type": "code",
   "execution_count": 11,
   "metadata": {},
   "outputs": [
    {
     "name": "stdout",
     "output_type": "stream",
     "text": [
      "Anagrafica clienti\n"
     ]
    },
    {
     "data": {
      "text/plain": [
       "{}"
      ]
     },
     "execution_count": 11,
     "metadata": {},
     "output_type": "execute_result"
    }
   ],
   "source": [
    "print(navigator.current_page.name)\n",
    "navigator.menu"
   ]
  },
  {
   "cell_type": "code",
   "execution_count": null,
   "metadata": {},
   "outputs": [],
   "source": []
  },
  {
   "cell_type": "code",
   "execution_count": 13,
   "metadata": {},
   "outputs": [],
   "source": [
    "navigator.current_page._av2000.send_seq(keys.SHIFT_F[1])"
   ]
  },
  {
   "cell_type": "code",
   "execution_count": null,
   "metadata": {},
   "outputs": [],
   "source": []
  },
  {
   "cell_type": "code",
   "execution_count": 14,
   "metadata": {},
   "outputs": [
    {
     "data": {
      "text/plain": [
       "['03/01/2022                    Anagrafica clienti                          q4mcli                    ',\n",
       " '99 ****** PROVA *****                                                                               ',\n",
       " 'qqqqqqqqqqqqqqqqqqqqqqqqqqqqqqqqqqqqqqqqqqqqqqqqqqqqqqqqqqqqqqqqqqqqqqqqqqqqqqqq                    ',\n",
       " 'Clqqqqqqqqqqqqqqqqqqqqqqqqqqqqqqqqqqqqqqqqqqqqqqqqqqqqqqqqqqqqqqqqqqqqqqqqqqqqk                     ',\n",
       " \" x                                              Codice piu' alto usato   1583 x                     \",\n",
       " ' x Lista dei Clienti partendo                                                 x                     ',\n",
       " ' x dalla ragione sociale                                                      x                     ',\n",
       " ' x oppure                                                                     x                     ',\n",
       " ' x dalla partita IVA                                                          x                     ',\n",
       " ' x                                                                            x                     ',\n",
       " ' x Oppure lista dei Clienti che hanno nella ragione sociale la stringa:       x                     ',\n",
       " ' x                                                                            x                     ',\n",
       " ' x Oppure lista dei clienti che hanno nella persona da contattare la stringa: x                     ',\n",
       " ' x                                                                            x                     ',\n",
       " \" x Oppure lista dei Clienti che hanno nella localita' la stringa:             x                     \",\n",
       " ' x                                                                            x                     ',\n",
       " ' x                                                                            x                     ',\n",
       " ' x Visuazza clienti obsoleti S/N N                                            x                     ',\n",
       " ' x Visualizzare seconda ragione sociale, agente, provincia S/N N              x                     ',\n",
       " ' x                                                                            x                     ',\n",
       " ' mqqqqqqqqqqqqqqqqqqqqqqqqqqqqqqqqqqqqqqqqqqqqqqqqqqqqqqqqqqqqqqqqqqqqqqqqqqqqj                     ',\n",
       " '                                                                                                    ',\n",
       " '                                                                                                    ',\n",
       " '                                                                                                    ',\n",
       " '                                                                                                    ',\n",
       " '                                                                                                    ',\n",
       " '                                                                                                    ',\n",
       " '                                                                                                    ',\n",
       " '                                                                                                    ',\n",
       " '                                                                                                    ',\n",
       " '                                                                                                    ',\n",
       " '                                                                                                    ',\n",
       " '                                                                                                    ',\n",
       " 'qqqqqqqqqqqqqqqqqqqqqqqqqqqqqqqqqqqqqqqqqqqqqqqqqqqqqqqqqqqqqqqqqqqqqqqqqqqqqqqq                    ',\n",
       " 'Invio Fine                                                                                          ',\n",
       " '                                                                                                    ',\n",
       " '                                                                                                    ',\n",
       " '                                                                                                    ',\n",
       " '                                                                                                    ',\n",
       " '                                                                                                    ']"
      ]
     },
     "execution_count": 14,
     "metadata": {},
     "output_type": "execute_result"
    }
   ],
   "source": [
    "navigator.current_page._av2000.display_lines"
   ]
  },
  {
   "cell_type": "code",
   "execution_count": 17,
   "metadata": {},
   "outputs": [],
   "source": [
    "navigator.current_page._av2000.send_seq(keys.ARROW['down'])"
   ]
  },
  {
   "cell_type": "code",
   "execution_count": 18,
   "metadata": {},
   "outputs": [],
   "source": [
    "navigator.current_page._av2000.send_seq(keys.ARROW['down'])"
   ]
  },
  {
   "cell_type": "code",
   "execution_count": 19,
   "metadata": {},
   "outputs": [],
   "source": [
    "navigator.current_page._av2000.send_seq(keys.ARROW['down'])"
   ]
  },
  {
   "cell_type": "code",
   "execution_count": 20,
   "metadata": {},
   "outputs": [],
   "source": [
    "navigator.current_page._av2000.send_seq('S')"
   ]
  },
  {
   "cell_type": "code",
   "execution_count": 21,
   "metadata": {},
   "outputs": [
    {
     "data": {
      "text/plain": [
       "['03/01/2022                    Anagrafica clienti                          q4mcli                    ',\n",
       " '99 ****** PROVA *****                                                                               ',\n",
       " 'qqqqqqqqqqqqqqqqqqqqqqqqqqqqqqqqqqqqqqqqqqqqqqqqqqqqqqqqqqqqqqqqqqqqqqqqqqqqqqqq                    ',\n",
       " 'Clqqqqqqqqqqqqqqqqqqqqqqqqqqqqqqqqqqqqqqqqqqqqqqqqqqqqqqqqqqqqqqqqqqqqqqqqqqqqk                     ',\n",
       " \" x                                              Codice piu' alto usato   1583 x                     \",\n",
       " ' x Lista dei Clienti partendo                                                 x                     ',\n",
       " ' x dalla ragione sociale                                                      x                     ',\n",
       " ' x oppure                                                                     x                     ',\n",
       " ' x dalla partita IVA                                                          x                     ',\n",
       " ' x                                                                            x                     ',\n",
       " ' x Oppure lista dei Clienti che hanno nella ragione sociale la stringa:       x                     ',\n",
       " ' x                                                                            x                     ',\n",
       " ' x Oppure lista dei clienti che hanno nella persona da contattare la stringa: x                     ',\n",
       " ' x                                                                            x                     ',\n",
       " \" x Oppure lista dei Clienti che hanno nella localita' la stringa:             x                     \",\n",
       " ' x                                                                            x                     ',\n",
       " ' x                                                                            x                     ',\n",
       " ' x Visuazza clienti obsoleti S/N S                                            x                     ',\n",
       " ' x Visualizzare seconda ragione sociale, agente, provincia S/N N              x                     ',\n",
       " ' x                                                                            x                     ',\n",
       " ' mqqqqqqqqqqqqqqqqqqqqqqqqqqqqqqqqqqqqqqqqqqqqqqqqqqqqqqqqqqqqqqqqqqqqqqqqqqqqj                     ',\n",
       " '                                                                                                    ',\n",
       " '                                                                                                    ',\n",
       " '                                                                                                    ',\n",
       " '                                                                                                    ',\n",
       " '                                                                                                    ',\n",
       " '                                                                                                    ',\n",
       " '                                                                                                    ',\n",
       " '                                                                                                    ',\n",
       " '                                                                                                    ',\n",
       " '                                                                                                    ',\n",
       " '                                                                                                    ',\n",
       " '                                                                                                    ',\n",
       " 'qqqqqqqqqqqqqqqqqqqqqqqqqqqqqqqqqqqqqqqqqqqqqqqqqqqqqqqqqqqqqqqqqqqqqqqqqqqqqqqq                    ',\n",
       " 'Invio Fine                                                                                          ',\n",
       " '                                                                                                    ',\n",
       " '                                                                                                    ',\n",
       " '                                                                                                    ',\n",
       " '                                                                                                    ',\n",
       " '                                                                                                    ']"
      ]
     },
     "execution_count": 21,
     "metadata": {},
     "output_type": "execute_result"
    }
   ],
   "source": [
    "navigator.current_page._av2000.display_lines"
   ]
  },
  {
   "cell_type": "code",
   "execution_count": 22,
   "metadata": {},
   "outputs": [],
   "source": [
    "navigator.current_page._av2000.send_line()"
   ]
  },
  {
   "cell_type": "code",
   "execution_count": 23,
   "metadata": {},
   "outputs": [
    {
     "data": {
      "text/plain": [
       "['03/01/2022                    Anagrafica clienti                          q4mcli                    ',\n",
       " '99 ****** PROVA *****                                                                               ',\n",
       " 'qqqqqqqqqqqqqqqqqqqqqqqqqqqqqqqqqqqqqqqqqqqqqqqqqqqqqqqqqqqqqqqqqqqqqqqqqqqqqqqq                    ',\n",
       " 'lqqqqqqqqqqqqqqqqqqqqqqqqqqqqqqqqqqqqqqqqqqqqqqqqqqqqqqqqqqqqqqqqqqqqqqqqqqqqqqk                    ',\n",
       " 'x Clienti                                                        (hlp056)      x                    ',\n",
       " 'x Codice Descrizione                                                           x                    ',\n",
       " 'x*000001 *PENNY MARKET ITALIA SRL                 11239830158      CERNUSCO SULx                    ',\n",
       " 'x 000002 A.BI.VI. SAS DI POSTET ILDEGARDA IN STUL 00108510322      TRIESTE     x                    ',\n",
       " 'x 000003 6                                        00170080063      CASALNOCETO x                    ',\n",
       " 'x 000004 ALIMENTARIO SPA                          00440600229      RIVA DEL GARx                    ',\n",
       " 'x 000005 *BORTOLUSSI DAVINO SRL                   00134380930      CASTIONS DI x                    ',\n",
       " 'x 000006 BISSON S.R.L.                            01573960240      NOVENTA VICEx                    ',\n",
       " 'x 000007 BAISERO ERNESTO DI BAISERO F.& C. SNC    00477940308      TOLMEZZO    x                    ',\n",
       " 'x 000008 BOTTINELLI GIUSEPPE DI CARLO E GIOVANNI  00215250127      VARESE      x                    ',\n",
       " 'x 000009 BOCCALETTI LUCIANO                       02364980363      MODENA      x                    ',\n",
       " 'x 000010 BOSAGLIA ALFONSO                         00208440248      VICENZA     x                    ',\n",
       " 'x 000011 *BILLA ITALIA SRL                        03277840280      CARMIGNANO Dx                    ',\n",
       " 'x 000012 *CENTER CATERING SRL                     02171470236      ARCOLE      x                    ',\n",
       " 'x 000013 *CE.DI. SISA CENTRO NORD SRL             02221280247      GRISIGNANO Dx                    ',\n",
       " 'x 000014 COAL SOC.COOP. A.R.L.                    00096240429      CAMERANO    x                    ',\n",
       " 'x 000015 CO.RI.AL. SOC.COOP. A R.L.               00141710400      RIMINI      x                    ',\n",
       " 'x 000016 COVIM SCRL COOP.VITIVINICOLA             00143250413      MONTE MAGGIOx                    ',\n",
       " 'x 000017 C.S.C.A.A. SOC.COOP.ARL                  01465410924      LOC.IS FOGAIx                    ',\n",
       " 'x 000018 CONTRI SPUMANTI SPA                      01241060233      CAZZANO DI Tx                    ',\n",
       " 'x 000019 CONAD DEL TIRRENO SOC.COOP.              00519660476      PISTOIA     x                    ',\n",
       " 'x 000020 *DANSK VINIMPORT APS                     66959414         DK - 7100 - x                    ',\n",
       " \"x 000021 CANTINA DANESE SRL                       01794860237      RONCA'      x                    \",\n",
       " 'x 000022 *FRUTTA E VERDURA DOMASCHIO TARCISIO     00432110237      VERONA      x                    ',\n",
       " 'x 000023 DAC SPA DISTRIB.ALIMENTARI CONVIVENZE    03038290171      FLERO       x                    ',\n",
       " 'x 000024 EUROVINI GROUP SRL                       02156120236      VERONA      x                    ',\n",
       " 'x 000025 FILISINA PIETRO & C. SNC                 01883170985      PREVALLE    x                    ',\n",
       " 'x 000026 GRISI F.LLI SNC                          00220550230      VERONA      x                    ',\n",
       " 'mqqqqqqqqqqqqqqqqqqqqqqqqqqqqqqqqqqqqqqqqqqqqqqqqqqqqqqqqqqqqqqqqqqqqqqqqqqqqqqj                    ',\n",
       " 'qqqqqqqqqqqqqqqqqqqqqqqqqqqqqqqqqqqqqqqqqqqqqqqqqqqqqqqqqqqqqqqqqqqqqqqqqqqqqqqq                    ',\n",
       " 'Invio Fine  PSucc                                                                                   ',\n",
       " '                                                                                                    ',\n",
       " '                                                                                                    ',\n",
       " '                                                                                                    ',\n",
       " '                                                                                                    ',\n",
       " '                                                                                                    ']"
      ]
     },
     "execution_count": 23,
     "metadata": {},
     "output_type": "execute_result"
    }
   ],
   "source": [
    "navigator.current_page._av2000.display_lines"
   ]
  },
  {
   "cell_type": "code",
   "execution_count": null,
   "metadata": {},
   "outputs": [],
   "source": []
  }
 ],
 "metadata": {
  "kernelspec": {
   "display_name": "Python 3",
   "language": "python",
   "name": "python3"
  },
  "language_info": {
   "codemirror_mode": {
    "name": "ipython",
    "version": 3
   },
   "file_extension": ".py",
   "mimetype": "text/x-python",
   "name": "python",
   "nbconvert_exporter": "python",
   "pygments_lexer": "ipython3",
   "version": "3.8.10"
  }
 },
 "nbformat": 4,
 "nbformat_minor": 4
}
