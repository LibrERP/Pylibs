{
 "cells": [
  {
   "cell_type": "code",
   "execution_count": 1,
   "metadata": {},
   "outputs": [],
   "source": [
    "import datetime\n",
    "import json\n",
    "from pathlib import Path\n",
    "import sys"
   ]
  },
  {
   "cell_type": "code",
   "execution_count": 2,
   "metadata": {},
   "outputs": [],
   "source": [
    "pth = Path(r'~/Documents/erp/quargentan/libs').expanduser()\n",
    "sys.path.insert(0, pth.as_posix())"
   ]
  },
  {
   "cell_type": "code",
   "execution_count": 3,
   "metadata": {},
   "outputs": [],
   "source": [
    "SUPPLIER_IDS_JSON_FILE = Path(r'~/Documents/erp/quargentan/supplier_ids.json').expanduser()"
   ]
  },
  {
   "cell_type": "code",
   "execution_count": 4,
   "metadata": {},
   "outputs": [],
   "source": [
    "from av2000_terminator.misc import keys\n",
    "from av2000_terminator.driver import AV2000Driver\n",
    "from av2000_terminator.navigation import Navigator\n",
    "from av2000_terminator.misc.connection_params import ConnectionParams\n",
    "from av2000_terminator import tasks"
   ]
  },
  {
   "cell_type": "code",
   "execution_count": 5,
   "metadata": {},
   "outputs": [],
   "source": [
    "cp = ConnectionParams(\n",
    "    host='10.3.1.1',\n",
    "    port=22,\n",
    "    username='didotech',\n",
    "    password='didotech',\n",
    "    company_id='99',\n",
    "    read_delay_sec=0.5,\n",
    ")"
   ]
  },
  {
   "cell_type": "code",
   "execution_count": null,
   "metadata": {},
   "outputs": [],
   "source": []
  },
  {
   "cell_type": "code",
   "execution_count": 6,
   "metadata": {},
   "outputs": [],
   "source": [
    "#sl = list(tasks.anagrafiche.suppliers_list(cp))\n",
    "#\n",
    "#sl_ids = [supplier['codice'] for supplier in sl]\n",
    "#\n",
    "#with SUPPLIER_IDS_JSON_FILE.open('w') as supp_ids_file:\n",
    "#    json.dump(sl_ids, supp_ids_file)\n",
    "## end with"
   ]
  },
  {
   "cell_type": "code",
   "execution_count": null,
   "metadata": {},
   "outputs": [],
   "source": []
  },
  {
   "cell_type": "code",
   "execution_count": 7,
   "metadata": {},
   "outputs": [],
   "source": [
    "with SUPPLIER_IDS_JSON_FILE.open('r') as supp_ids_file:\n",
    "    sl_ids = json.load(supp_ids_file)\n",
    "# end with"
   ]
  },
  {
   "cell_type": "code",
   "execution_count": 8,
   "metadata": {},
   "outputs": [
    {
     "data": {
      "text/plain": [
       "3076"
      ]
     },
     "execution_count": 8,
     "metadata": {},
     "output_type": "execute_result"
    }
   ],
   "source": [
    "len(sl_ids)"
   ]
  },
  {
   "cell_type": "code",
   "execution_count": null,
   "metadata": {},
   "outputs": [
    {
     "name": "stdout",
     "output_type": "stream",
     "text": [
      "Initializing SSH clienti\n",
      "Initializing SSH clientiInitializing SSH clienti\n",
      "Initializing SSH clientiInitializing SSH clientiInitializing SSH clienti\n",
      "\n",
      "\n",
      "\n",
      "Connectiong to host 10.3.1.1Connectiong to host 10.3.1.1\n",
      "\n",
      "Connectiong to host 10.3.1.1Connectiong to host 10.3.1.1\n",
      "\n",
      "Connectiong to host 10.3.1.1Connectiong to host 10.3.1.1\n",
      "\n",
      "Initializing terminal emulator\n",
      "Initializing terminal emulator\n",
      "Initializing terminal emulator\n",
      "Initializing terminal emulator"
     ]
    }
   ],
   "source": [
    "suppliers = dict()\n",
    "\n",
    "newline_counter = 0\n",
    "\n",
    "ts_start = datetime.datetime.now()\n",
    "\n",
    "for x in tasks.anagrafiche.suppliers_get_batch(cp, sl_ids, procs_num=6):\n",
    "    suppliers[x['codice']] = x\n",
    "    \n",
    "    print('.', end='')\n",
    "    newline_counter += 1\n",
    "    if newline_counter > 100:\n",
    "        newline_counter = 0\n",
    "        print()\n",
    "    # end if\n",
    "# end for\n",
    "\n",
    "ts_end = datetime.datetime.now()"
   ]
  },
  {
   "cell_type": "code",
   "execution_count": null,
   "metadata": {},
   "outputs": [],
   "source": [
    "len(suppliers)"
   ]
  },
  {
   "cell_type": "code",
   "execution_count": null,
   "metadata": {},
   "outputs": [],
   "source": [
    "for x in sl_ids:\n",
    "    if not str(x) in suppliers:\n",
    "        print(f'Supplier {x} NOT DOWNLOADED')"
   ]
  },
  {
   "cell_type": "code",
   "execution_count": null,
   "metadata": {},
   "outputs": [],
   "source": []
  }
 ],
 "metadata": {
  "kernelspec": {
   "display_name": "Python 3",
   "language": "python",
   "name": "python3"
  },
  "language_info": {
   "codemirror_mode": {
    "name": "ipython",
    "version": 3
   },
   "file_extension": ".py",
   "mimetype": "text/x-python",
   "name": "python",
   "nbconvert_exporter": "python",
   "pygments_lexer": "ipython3",
   "version": "3.7.12"
  }
 },
 "nbformat": 4,
 "nbformat_minor": 4
}
